{
 "nbformat": 4,
 "nbformat_minor": 0,
 "metadata": {
  "colab": {
   "provenance": []
  },
  "kernelspec": {
   "name": "python3",
   "language": "python",
   "display_name": "Python 3 (ipykernel)"
  },
  "language_info": {
   "name": "python"
  }
 },
 "cells": [
  {
   "cell_type": "markdown",
   "source": [
    "# Задача 1\n",
    "Написать функцию на вход которой подается строка, состоящая из латинских букв.\n",
    "Функция должна вернуть количество гласных букв (a, e, i, o, u) в этой строке. Написать тесты для кода"
   ],
   "metadata": {
    "id": "M-DGa20PaHnu"
   }
  },
  {
   "cell_type": "code",
   "source": [
    "def count_vowels_letters(string: str) -> int:\n",
    "    vowels_letters = [\"a\", \"e\", \"i\", \"o\", \"u\"]\n",
    "    cnt = 0\n",
    "    for letter in vowels_letters:\n",
    "        cnt += string.lower().count(letter)\n",
    "    return cnt\n",
    "\n",
    "\n",
    "def test(input_data, expected):\n",
    "    res = count_vowels_letters(input_data)\n",
    "    assert res == expected\n",
    "\n",
    "\n",
    "test(\"qwertyuiop\", 4)\n",
    "test(\"Hello World\", 3)\n",
    "test(\"HELLO WORLD\", 3)"
   ],
   "metadata": {
    "id": "XvX8X_JJ6PCb",
    "ExecuteTime": {
     "end_time": "2024-03-19T20:33:46.578735800Z",
     "start_time": "2024-03-19T20:33:46.575979500Z"
    }
   },
   "execution_count": 1,
   "outputs": []
  },
  {
   "cell_type": "markdown",
   "source": [
    "# Задача 2\n",
    "Написать функцию на вход, которой подается строка. Функция должна вернуть true, если\n",
    "каждый символ в строке встречается только 1 раз, иначе должна вернуть false. Написать тесты для кода"
   ],
   "metadata": {
    "id": "t2ClV_Y0bbr6"
   }
  },
  {
   "cell_type": "code",
   "source": [
    "def contains_duplicate_letters(string: str) -> bool:\n",
    "    for letter in string:\n",
    "        if string.lower().count(letter) > 1:\n",
    "            return False\n",
    "    return True\n",
    "\n",
    "\n",
    "def test(input_data, expected):\n",
    "    res = contains_duplicate_letters(input_data)\n",
    "    assert res == expected\n",
    "\n",
    "\n",
    "test(\"abcdefg\", True)\n",
    "test(\"bcdeaklua\", False)\n",
    "test(\"HeLlo Wrd\", False)"
   ],
   "metadata": {
    "id": "FppbECao6VIz",
    "ExecuteTime": {
     "end_time": "2024-03-19T20:33:48.744718900Z",
     "start_time": "2024-03-19T20:33:48.740696300Z"
    }
   },
   "execution_count": 2,
   "outputs": []
  },
  {
   "cell_type": "markdown",
   "source": [
    "# Задача 3\n",
    "Написать функцию, которая принимает положительное число и возвращает количество\n",
    "бит равных 1 в этом числе. Написать тесты для кода"
   ],
   "metadata": {
    "id": "udRiIK1cdt6E"
   }
  },
  {
   "cell_type": "code",
   "source": [
    "def count_set_bits(num):\n",
    "    if num < 0:\n",
    "        return \"Wrong number\"\n",
    "\n",
    "    cnt = 0\n",
    "    while num:\n",
    "        num &= (num - 1)\n",
    "        cnt += 1\n",
    "    return cnt\n",
    "\n",
    "\n",
    "def test(input_data, expected):\n",
    "    res = count_set_bits(input_data)\n",
    "    assert res == expected\n",
    "\n",
    "\n",
    "test(9, 2)\n",
    "test(15, 4)\n",
    "test(0, 0)\n",
    "test(-2, \"Wrong number\")\n",
    "test(10, 2)"
   ],
   "metadata": {
    "id": "6tkfDJRz6dp_",
    "ExecuteTime": {
     "end_time": "2024-03-19T20:33:50.903789900Z",
     "start_time": "2024-03-19T20:33:50.898755600Z"
    }
   },
   "execution_count": 3,
   "outputs": []
  },
  {
   "cell_type": "markdown",
   "source": [
    "# Задача 4\n",
    "Написать функцию, которая принимает положительное число. Функция должна вернуть то,\n",
    "сколько раз необходимо перемножать цифры числа или результат перемножения, чтобы\n",
    "получилось число состоящее из одной цифры.\n",
    "Например, для входного числа:\n",
    "· 39 функция должна вернуть 3, так как 3*9=27 => 2*7=14 => 1*4=4\n",
    "· 4 функция должна вернуть 0, так как число уже состоит из одной цифры\n",
    "· 999 функция должна вернуть 4, так как 9*9*9=729 => 7*2*9=126 => 1*2*6=12 =>\n",
    "1*2=2. Написать тесты для кода"
   ],
   "metadata": {
    "id": "26dDUz-Ae17N"
   }
  },
  {
   "cell_type": "code",
   "source": [
    "def magic(n):\n",
    "    cnt = 0\n",
    "    while n > 9:\n",
    "        res = 1\n",
    "        while n:\n",
    "            digit = n % 10\n",
    "            res *= digit\n",
    "            n //= 10\n",
    "        n = res\n",
    "        cnt += 1\n",
    "    return cnt\n",
    "\n",
    "\n",
    "def test(input_data, expected):\n",
    "    res = magic(input_data)\n",
    "    assert res == expected\n",
    "\n",
    "\n",
    "test(39, 3)\n",
    "test(0, 0)\n",
    "test(999, 4)"
   ],
   "metadata": {
    "id": "BH1A_Mgi6i4G",
    "ExecuteTime": {
     "end_time": "2024-03-19T20:33:53.113938800Z",
     "start_time": "2024-03-19T20:33:53.108820100Z"
    }
   },
   "execution_count": 4,
   "outputs": []
  },
  {
   "cell_type": "markdown",
   "source": [
    "# Задача 5\n",
    "Написать функцию, которая принимает два целочисленных вектора одинаковой длины и\n",
    "возвращает среднеквадратическое отклонение двух векторов. Написать тесты для кода"
   ],
   "metadata": {
    "id": "0nS-kIa8g8vd"
   }
  },
  {
   "cell_type": "code",
   "source": [
    "import numpy as np\n",
    "\n",
    "\n",
    "def mse(pred, true):\n",
    "    if len(pred) != len(true):\n",
    "        return \"Длины векторов должны быть одинаковыми.\"\n",
    "\n",
    "    arr1 = np.array(pred)\n",
    "    arr2 = np.array(true)\n",
    "\n",
    "    deviation = np.sqrt(np.mean((arr1 - arr2) ** 2))\n",
    "\n",
    "    return deviation\n",
    "\n",
    "\n",
    "def test(vector_1, vector_2, expected):\n",
    "    res = mse(vector_1, vector_2)\n",
    "    assert np.isclose(res, expected, rtol=1e-2)\n",
    "\n",
    "\n",
    "test([1, 2, 3, 4, 5], [5, 4, 3, 2, 1], 2.83)\n",
    "test([10, 20, 30, 40, 50], [50, 40, 30, 20, 10], 28.28)\n",
    "test([1, 2, 3, 4], [2, 3, 4, 5], 1.0)\n",
    "test([0, 0, 0, 0, 0], [0, 0, 0, 0, 0], 0.0)"
   ],
   "metadata": {
    "id": "8iphx4LM6xbx",
    "ExecuteTime": {
     "end_time": "2024-03-19T20:33:55.283925500Z",
     "start_time": "2024-03-19T20:33:55.239836800Z"
    }
   },
   "execution_count": 5,
   "outputs": []
  },
  {
   "cell_type": "markdown",
   "source": [
    "# Задача 6\n",
    "Написать функцию, принимающая целое положительное число. Функция должна вернуть\n",
    "строку вида “(n1**p1)(n2**p2)…(nk**pk)” представляющая разложение числа на простые\n",
    "множители (если pi == 1, то выводить только ni).\n",
    "Например, для числа 86240 функция должна вернуть “(2**5)(5)(7**2)(11)”. Написать тесты для кода"
   ],
   "metadata": {
    "id": "vpIPKL439zkw"
   }
  },
  {
   "cell_type": "code",
   "source": [
    "def factorize(num):\n",
    "    if num < 0:\n",
    "        return \"Wrong number\"\n",
    "\n",
    "    divider = 2\n",
    "    multipliers = \"\"\n",
    "    while num > 1:\n",
    "        cnt = 0\n",
    "        while num % divider == 0:\n",
    "            cnt += 1\n",
    "            num //= divider\n",
    "        if cnt > 1:\n",
    "            multipliers = ''.join([multipliers, f\"({divider}**{cnt})\"])\n",
    "        elif cnt == 1:\n",
    "            multipliers = ''.join([multipliers, f\"({divider})\"])\n",
    "        divider += 1\n",
    "    return multipliers\n",
    "\n",
    "\n",
    "def test(input_data, expected):\n",
    "    res = factorize(input_data)\n",
    "    assert res == expected\n",
    "\n",
    "\n",
    "test(86240, \"(2**5)(5)(7**2)(11)\")\n",
    "test(700, \"(2**2)(5**2)(7)\")\n",
    "test(1000, \"(2**3)(5**3)\")"
   ],
   "metadata": {
    "id": "pFebmcZk94Jw",
    "ExecuteTime": {
     "end_time": "2024-03-19T20:34:03.356230100Z",
     "start_time": "2024-03-19T20:34:03.352211800Z"
    }
   },
   "execution_count": 8,
   "outputs": []
  },
  {
   "cell_type": "markdown",
   "source": [
    "# Задача 7\n",
    "Написать функцию, принимающая целое число n, задающее количество кубиков. Функция\n",
    "должна определить, можно ли из данного кол-ва кубиков построить пирамиду, то есть\n",
    "можно ли представить число n как 1^2+2^2+3^2+…+k^2. Если можно, то функция должна\n",
    "вернуть k, иначе строку “It is impossible”. Написать тесты для кода"
   ],
   "metadata": {
    "id": "ps2s0BudX7A2"
   }
  },
  {
   "cell_type": "code",
   "source": [
    "def pyramid(number):\n",
    "    res_sum = 0\n",
    "    k = 0\n",
    "    while res_sum < number:\n",
    "        k += 1\n",
    "        res_sum += k ** 2\n",
    "\n",
    "    if res_sum == number:\n",
    "        return k\n",
    "    return \"It is impossible\"\n",
    "\n",
    "\n",
    "def test(input_data, expected):\n",
    "    res = pyramid(input_data)\n",
    "    assert res == expected\n",
    "\n",
    "\n",
    "test(5, 2)\n",
    "test(14, 3)\n",
    "test(13, \"It is impossible\")\n",
    "test(30, 4)\n",
    "test(55, 5)\n",
    "test(40, \"It is impossible\")"
   ],
   "metadata": {
    "id": "3YPjEXxhX_YT",
    "ExecuteTime": {
     "end_time": "2024-03-19T20:34:04.889076200Z",
     "start_time": "2024-03-19T20:34:04.884146900Z"
    }
   },
   "execution_count": 9,
   "outputs": []
  },
  {
   "cell_type": "markdown",
   "source": [
    "# Задача 8\n",
    "Функция принимает на вход положительное число и определяет является ли оно сбалансированным, т.е. сумма цифр до средних равна сумме цифр после. Средними в случае нечетного числа цифр считать одну цифру, в случае четного - две средних. Написать тесты для кода"
   ],
   "metadata": {
    "id": "KeKgmIdAQMEJ"
   }
  },
  {
   "cell_type": "code",
   "source": [
    "def balanced(num):\n",
    "    str_num = str(num)\n",
    "    length = len(str_num)\n",
    "    mid = length // 2\n",
    "    offset = 1 if length % 2 == 0 else 0\n",
    "\n",
    "    left = sum([int(str_num[i]) for i in range(mid - offset)])\n",
    "    right = sum([int(str_num[i]) for i in range(mid + length % 2 + offset, length)])\n",
    "\n",
    "    return left == right\n",
    "\n",
    "\n",
    "def test(input_data, expected):\n",
    "    res = balanced(input_data)\n",
    "    assert res == expected\n",
    "\n",
    "\n",
    "test(4564, True)\n",
    "test(12, True)\n",
    "test(1, True)\n",
    "test(2519332, True)\n",
    "test(231, False)\n",
    "test(125134, False)"
   ],
   "metadata": {
    "id": "gMAAqtqlQrZt",
    "ExecuteTime": {
     "end_time": "2024-03-19T20:34:06.618407400Z",
     "start_time": "2024-03-19T20:34:06.611972800Z"
    }
   },
   "execution_count": 10,
   "outputs": []
  }
 ]
}
